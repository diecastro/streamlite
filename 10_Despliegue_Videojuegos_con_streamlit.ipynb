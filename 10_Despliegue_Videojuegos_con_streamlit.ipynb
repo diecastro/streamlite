{
 "nbformat": 4,
 "nbformat_minor": 0,
 "metadata": {
  "colab": {
   "provenance": []
  },
  "kernelspec": {
   "name": "python3",
   "display_name": "Python 3"
  }
 },
 "cells": [
  {
   "cell_type": "markdown",
   "metadata": {
    "id": "dDZgIljydP_q"
   },
   "source": [
    "# Despliegue\n",
    "\n",
    "- Cargamos el modelo\n",
    "- Cargamos los datos futuros\n",
    "- Preparar los datos futuros\n",
    "- Aplicamos el modelo para la predicción"
   ]
  },
  {
   "cell_type": "code",
   "metadata": {
    "id": "F1FaP7VybpPj",
    "ExecuteTime": {
     "end_time": "2025-09-20T18:40:22.738015Z",
     "start_time": "2025-09-20T18:40:22.732603Z"
    }
   },
   "source": [
    "#Cargamos librerías principales\n",
    "import numpy as np\n",
    "import pandas as pd\n",
    "import matplotlib.pyplot as plt"
   ],
   "outputs": [],
   "execution_count": 22
  },
  {
   "cell_type": "code",
   "source": [
    "#Cargamos el modelo\n",
    "import pickle\n",
    "filename = './modelo-reg.pkl'\n",
    "model_Tree, modelSVM, model_Knn, model_NN, min_max_scaler, variables = pickle.load(open(filename, 'rb'))"
   ],
   "metadata": {
    "id": "fb2hc0l893Kc",
    "ExecuteTime": {
     "end_time": "2025-09-20T18:40:22.763403Z",
     "start_time": "2025-09-20T18:40:22.757969Z"
    }
   },
   "outputs": [],
   "execution_count": 23
  },
  {
   "cell_type": "code",
   "metadata": {
    "id": "Nbiz9T9lb9Zx",
    "colab": {
     "base_uri": "https://localhost:8080/",
     "height": 206
    },
    "outputId": "9701fb93-caa6-4fa8-ca4b-60aaf9512f1c",
    "ExecuteTime": {
     "end_time": "2025-09-20T18:40:22.786292Z",
     "start_time": "2025-09-20T18:40:22.778134Z"
    }
   },
   "source": [
    "#Cargamos los datos futuros\n",
    "data = pd.read_csv(\"./videojuegos-datosFuturos.csv\")\n",
    "data.head()"
   ],
   "outputs": [
    {
     "data": {
      "text/plain": [
       "         videojuego  Edad    Sexo      Plataforma  Consumidor_habitual\n",
       "0     'Mass Effect'    33  Hombre           Otros                False\n",
       "1  'KOA: Reckoning'    30   Mujer              PC                 True\n",
       "2      'Dead Space'    22  Hombre          'Xbox'                False\n",
       "3          'Crysis'    17  Hombre  'Play Station'                False\n",
       "4        'Sim City'    27   Mujer           Otros                 True"
      ],
      "text/html": [
       "<div>\n",
       "<style scoped>\n",
       "    .dataframe tbody tr th:only-of-type {\n",
       "        vertical-align: middle;\n",
       "    }\n",
       "\n",
       "    .dataframe tbody tr th {\n",
       "        vertical-align: top;\n",
       "    }\n",
       "\n",
       "    .dataframe thead th {\n",
       "        text-align: right;\n",
       "    }\n",
       "</style>\n",
       "<table border=\"1\" class=\"dataframe\">\n",
       "  <thead>\n",
       "    <tr style=\"text-align: right;\">\n",
       "      <th></th>\n",
       "      <th>videojuego</th>\n",
       "      <th>Edad</th>\n",
       "      <th>Sexo</th>\n",
       "      <th>Plataforma</th>\n",
       "      <th>Consumidor_habitual</th>\n",
       "    </tr>\n",
       "  </thead>\n",
       "  <tbody>\n",
       "    <tr>\n",
       "      <th>0</th>\n",
       "      <td>'Mass Effect'</td>\n",
       "      <td>33</td>\n",
       "      <td>Hombre</td>\n",
       "      <td>Otros</td>\n",
       "      <td>False</td>\n",
       "    </tr>\n",
       "    <tr>\n",
       "      <th>1</th>\n",
       "      <td>'KOA: Reckoning'</td>\n",
       "      <td>30</td>\n",
       "      <td>Mujer</td>\n",
       "      <td>PC</td>\n",
       "      <td>True</td>\n",
       "    </tr>\n",
       "    <tr>\n",
       "      <th>2</th>\n",
       "      <td>'Dead Space'</td>\n",
       "      <td>22</td>\n",
       "      <td>Hombre</td>\n",
       "      <td>'Xbox'</td>\n",
       "      <td>False</td>\n",
       "    </tr>\n",
       "    <tr>\n",
       "      <th>3</th>\n",
       "      <td>'Crysis'</td>\n",
       "      <td>17</td>\n",
       "      <td>Hombre</td>\n",
       "      <td>'Play Station'</td>\n",
       "      <td>False</td>\n",
       "    </tr>\n",
       "    <tr>\n",
       "      <th>4</th>\n",
       "      <td>'Sim City'</td>\n",
       "      <td>27</td>\n",
       "      <td>Mujer</td>\n",
       "      <td>Otros</td>\n",
       "      <td>True</td>\n",
       "    </tr>\n",
       "  </tbody>\n",
       "</table>\n",
       "</div>"
      ]
     },
     "execution_count": 24,
     "metadata": {},
     "output_type": "execute_result"
    }
   ],
   "execution_count": 24
  },
  {
   "cell_type": "code",
   "source": [
    "#Interfaz gráfica\n",
    "#Se crea interfaz gráfica con streamlit para captura de los datos\n",
    "\n",
    "import streamlit as st\n",
    "import streamlit as st\n",
    "# from streamlit_jupyter import StreamlitPatcher\n",
    "\n",
    "# StreamlitPatcher().jupyter()\n",
    "\n",
    "st.title('Predicción de inversión en una tienda de videojuegos')\n",
    "\n",
    "Edad = st.slider('Edad', min_value=14, max_value=52, value=20, step=1)\n",
    "videojuego = st.selectbox('Videojuego', [\"'Mass Effect'\",\"'Battlefield'\", \"'Fifa'\",\"'KOA: Reckoning'\",\"'Crysis'\",\"'Sim City'\",\"'Dead Space'\",\"'F1'\"])\n",
    "Plataforma = st.selectbox('Plataforma', [\"'Play Station'\", \"'Xbox'\",\"PC\",\"Otros\"])\n",
    "Sexo = st.selectbox('Sexo', ['Hombre', 'Mujer'])\n",
    "Consumidor_habitual = st.selectbox('Consumidor_habitual', ['True', 'False'])\n",
    "\n",
    "\n",
    "#Dataframe\n",
    "datos = [[Edad, videojuego,Plataforma,Sexo,Consumidor_habitual]]\n",
    "data = pd.DataFrame(datos, columns=['Edad', 'videojuego','Plataforma','Sexo','Consumidor_habitual']) #Dataframe con los mismos nombres de variables"
   ],
   "metadata": {
    "id": "L7W6U7REHTwa",
    "ExecuteTime": {
     "end_time": "2025-09-20T18:40:22.823231Z",
     "start_time": "2025-09-20T18:40:22.810762Z"
    }
   },
   "outputs": [
    {
     "data": {
      "text/plain": [
       "<IPython.core.display.Markdown object>"
      ],
      "text/markdown": "# Predicción de inversión en una tienda de videojuegos"
     },
     "metadata": {},
     "output_type": "display_data"
    },
    {
     "name": "stderr",
     "output_type": "stream",
     "text": [
      "2025-09-20 13:40:22.813 Thread 'MainThread': missing ScriptRunContext! This warning can be ignored when running in bare mode.\n",
      "2025-09-20 13:40:22.814 Thread 'MainThread': missing ScriptRunContext! This warning can be ignored when running in bare mode.\n",
      "2025-09-20 13:40:22.814 Thread 'MainThread': missing ScriptRunContext! This warning can be ignored when running in bare mode.\n",
      "2025-09-20 13:40:22.815 Thread 'MainThread': missing ScriptRunContext! This warning can be ignored when running in bare mode.\n",
      "2025-09-20 13:40:22.815 Thread 'MainThread': missing ScriptRunContext! This warning can be ignored when running in bare mode.\n",
      "2025-09-20 13:40:22.816 Thread 'MainThread': missing ScriptRunContext! This warning can be ignored when running in bare mode.\n"
     ]
    },
    {
     "data": {
      "text/plain": [
       "Dropdown(description='Videojuego', options=(\"'Mass Effect'\", \"'Battlefield'\", \"'Fifa'\", \"'KOA: Reckoning'\", \"'…"
      ],
      "application/vnd.jupyter.widget-view+json": {
       "version_major": 2,
       "version_minor": 0,
       "model_id": "170cd428da2e49048ed63fb6361066f2"
      }
     },
     "metadata": {},
     "output_type": "display_data"
    },
    {
     "data": {
      "text/plain": [
       "Dropdown(description='Plataforma', options=(\"'Play Station'\", \"'Xbox'\", 'PC', 'Otros'), value=\"'Play Station'\"…"
      ],
      "application/vnd.jupyter.widget-view+json": {
       "version_major": 2,
       "version_minor": 0,
       "model_id": "b7cfde1b2a424c06950db3df9c86ab04"
      }
     },
     "metadata": {},
     "output_type": "display_data"
    },
    {
     "data": {
      "text/plain": [
       "Dropdown(description='Sexo', options=('Hombre', 'Mujer'), value='Hombre')"
      ],
      "application/vnd.jupyter.widget-view+json": {
       "version_major": 2,
       "version_minor": 0,
       "model_id": "d2772260fd8243a9899d6b1fcd7b364a"
      }
     },
     "metadata": {},
     "output_type": "display_data"
    },
    {
     "data": {
      "text/plain": [
       "Dropdown(description='Consumidor_habitual', options=('True', 'False'), value='True')"
      ],
      "application/vnd.jupyter.widget-view+json": {
       "version_major": 2,
       "version_minor": 0,
       "model_id": "47b85fb25ee545f29cf0730ef894c348"
      }
     },
     "metadata": {},
     "output_type": "display_data"
    }
   ],
   "execution_count": 25
  },
  {
   "cell_type": "code",
   "metadata": {
    "id": "Ab_-IqgHcHPY",
    "colab": {
     "base_uri": "https://localhost:8080/",
     "height": 243
    },
    "outputId": "8fb786f5-9865-43e1-deff-343aa098d722",
    "ExecuteTime": {
     "end_time": "2025-09-20T18:40:22.881761Z",
     "start_time": "2025-09-20T18:40:22.876971Z"
    }
   },
   "source": [
    "#Se realiza la preparación\n",
    "data_preparada=data.copy()\n",
    "\n",
    "#En despliegue drop_first= False\n",
    "data_preparada = pd.get_dummies(data_preparada, columns=['videojuego', 'Plataforma','Sexo', 'Consumidor_habitual'], drop_first=False, dtype=int)\n",
    "data_preparada.head()"
   ],
   "outputs": [
    {
     "data": {
      "text/plain": [
       "   Edad  videojuego_'Mass Effect'  Plataforma_'Play Station'  Sexo_Hombre  \\\n",
       "0    20                         1                          1            1   \n",
       "\n",
       "   Consumidor_habitual_True  \n",
       "0                         1  "
      ],
      "text/html": [
       "<div>\n",
       "<style scoped>\n",
       "    .dataframe tbody tr th:only-of-type {\n",
       "        vertical-align: middle;\n",
       "    }\n",
       "\n",
       "    .dataframe tbody tr th {\n",
       "        vertical-align: top;\n",
       "    }\n",
       "\n",
       "    .dataframe thead th {\n",
       "        text-align: right;\n",
       "    }\n",
       "</style>\n",
       "<table border=\"1\" class=\"dataframe\">\n",
       "  <thead>\n",
       "    <tr style=\"text-align: right;\">\n",
       "      <th></th>\n",
       "      <th>Edad</th>\n",
       "      <th>videojuego_'Mass Effect'</th>\n",
       "      <th>Plataforma_'Play Station'</th>\n",
       "      <th>Sexo_Hombre</th>\n",
       "      <th>Consumidor_habitual_True</th>\n",
       "    </tr>\n",
       "  </thead>\n",
       "  <tbody>\n",
       "    <tr>\n",
       "      <th>0</th>\n",
       "      <td>20</td>\n",
       "      <td>1</td>\n",
       "      <td>1</td>\n",
       "      <td>1</td>\n",
       "      <td>1</td>\n",
       "    </tr>\n",
       "  </tbody>\n",
       "</table>\n",
       "</div>"
      ]
     },
     "execution_count": 26,
     "metadata": {},
     "output_type": "execute_result"
    }
   ],
   "execution_count": 26
  },
  {
   "cell_type": "code",
   "metadata": {
    "id": "3idwiJ52c5Zl",
    "colab": {
     "base_uri": "https://localhost:8080/",
     "height": 243
    },
    "outputId": "2b5596f4-81d9-4b6f-8e74-9bc2101e8700",
    "ExecuteTime": {
     "end_time": "2025-09-20T18:40:22.934806Z",
     "start_time": "2025-09-20T18:40:22.930463Z"
    }
   },
   "source": [
    "#Se adicionan las columnas faltantes\n",
    "data_preparada=data_preparada.reindex(columns=variables,fill_value=0)\n",
    "data_preparada.head()"
   ],
   "outputs": [
    {
     "data": {
      "text/plain": [
       "   Edad  videojuego_'Battlefield'  videojuego_'Crysis'  \\\n",
       "0    20                         0                    0   \n",
       "\n",
       "   videojuego_'Dead Space'  videojuego_'F1'  videojuego_'Fifa'  \\\n",
       "0                        0                0                  0   \n",
       "\n",
       "   videojuego_'KOA: Reckoning'  videojuego_'Mass Effect'  \\\n",
       "0                            0                         1   \n",
       "\n",
       "   videojuego_'Sim City'  Plataforma_'Play Station'  Plataforma_'Xbox'  \\\n",
       "0                      0                          1                  0   \n",
       "\n",
       "   Plataforma_Otros  Plataforma_PC  Sexo_Mujer  Consumidor_habitual_True  \n",
       "0                 0              0           0                         1  "
      ],
      "text/html": [
       "<div>\n",
       "<style scoped>\n",
       "    .dataframe tbody tr th:only-of-type {\n",
       "        vertical-align: middle;\n",
       "    }\n",
       "\n",
       "    .dataframe tbody tr th {\n",
       "        vertical-align: top;\n",
       "    }\n",
       "\n",
       "    .dataframe thead th {\n",
       "        text-align: right;\n",
       "    }\n",
       "</style>\n",
       "<table border=\"1\" class=\"dataframe\">\n",
       "  <thead>\n",
       "    <tr style=\"text-align: right;\">\n",
       "      <th></th>\n",
       "      <th>Edad</th>\n",
       "      <th>videojuego_'Battlefield'</th>\n",
       "      <th>videojuego_'Crysis'</th>\n",
       "      <th>videojuego_'Dead Space'</th>\n",
       "      <th>videojuego_'F1'</th>\n",
       "      <th>videojuego_'Fifa'</th>\n",
       "      <th>videojuego_'KOA: Reckoning'</th>\n",
       "      <th>videojuego_'Mass Effect'</th>\n",
       "      <th>videojuego_'Sim City'</th>\n",
       "      <th>Plataforma_'Play Station'</th>\n",
       "      <th>Plataforma_'Xbox'</th>\n",
       "      <th>Plataforma_Otros</th>\n",
       "      <th>Plataforma_PC</th>\n",
       "      <th>Sexo_Mujer</th>\n",
       "      <th>Consumidor_habitual_True</th>\n",
       "    </tr>\n",
       "  </thead>\n",
       "  <tbody>\n",
       "    <tr>\n",
       "      <th>0</th>\n",
       "      <td>20</td>\n",
       "      <td>0</td>\n",
       "      <td>0</td>\n",
       "      <td>0</td>\n",
       "      <td>0</td>\n",
       "      <td>0</td>\n",
       "      <td>0</td>\n",
       "      <td>1</td>\n",
       "      <td>0</td>\n",
       "      <td>1</td>\n",
       "      <td>0</td>\n",
       "      <td>0</td>\n",
       "      <td>0</td>\n",
       "      <td>0</td>\n",
       "      <td>1</td>\n",
       "    </tr>\n",
       "  </tbody>\n",
       "</table>\n",
       "</div>"
      ]
     },
     "execution_count": 27,
     "metadata": {},
     "output_type": "execute_result"
    }
   ],
   "execution_count": 27
  },
  {
   "cell_type": "code",
   "source": [
    "#Se normaliza la edad para predecir con Knn, Red\n",
    "#En los despliegues no se llama fit\n",
    "#data_preparada[['Edad']]= min_max_scaler.transform(data_preparada[['Edad']])\n",
    "#data_preparada.head()"
   ],
   "metadata": {
    "id": "4vbe7JwYOloo",
    "colab": {
     "base_uri": "https://localhost:8080/",
     "height": 243
    },
    "outputId": "93957d58-7d84-4b10-f21f-4278c17baf08",
    "ExecuteTime": {
     "end_time": "2025-09-20T18:40:22.974354Z",
     "start_time": "2025-09-20T18:40:22.972844Z"
    }
   },
   "outputs": [],
   "execution_count": 28
  },
  {
   "cell_type": "markdown",
   "source": [
    "# **Predicciones**"
   ],
   "metadata": {
    "id": "Nb0WCCMt2uHy"
   }
  },
  {
   "cell_type": "code",
   "metadata": {
    "id": "TDoQT-z5c_6A",
    "colab": {
     "base_uri": "https://localhost:8080/"
    },
    "outputId": "63ba3568-3689-49ae-e20c-d7b6df5286a9",
    "ExecuteTime": {
     "end_time": "2025-09-20T18:40:23.005596Z",
     "start_time": "2025-09-20T18:40:23.001793Z"
    }
   },
   "source": [
    "#Hacemos la predicción con el Tree\n",
    "Y_pred = model_Tree.predict(data_preparada)\n",
    "print(Y_pred)\n"
   ],
   "outputs": [
    {
     "name": "stdout",
     "output_type": "stream",
     "text": [
      "[420.]\n"
     ]
    }
   ],
   "execution_count": 29
  },
  {
   "cell_type": "code",
   "source": [
    "data['Prediccion']=Y_pred\n",
    "data.head()"
   ],
   "metadata": {
    "id": "NbQjmF9vXF7R",
    "colab": {
     "base_uri": "https://localhost:8080/",
     "height": 206
    },
    "outputId": "5322aebf-10b9-45e9-f3c5-65a6fa238ec9",
    "ExecuteTime": {
     "end_time": "2025-09-20T18:40:23.051817Z",
     "start_time": "2025-09-20T18:40:23.047323Z"
    }
   },
   "outputs": [
    {
     "data": {
      "text/plain": [
       "   Edad     videojuego      Plataforma    Sexo Consumidor_habitual  Prediccion\n",
       "0    20  'Mass Effect'  'Play Station'  Hombre                True       420.0"
      ],
      "text/html": [
       "<div>\n",
       "<style scoped>\n",
       "    .dataframe tbody tr th:only-of-type {\n",
       "        vertical-align: middle;\n",
       "    }\n",
       "\n",
       "    .dataframe tbody tr th {\n",
       "        vertical-align: top;\n",
       "    }\n",
       "\n",
       "    .dataframe thead th {\n",
       "        text-align: right;\n",
       "    }\n",
       "</style>\n",
       "<table border=\"1\" class=\"dataframe\">\n",
       "  <thead>\n",
       "    <tr style=\"text-align: right;\">\n",
       "      <th></th>\n",
       "      <th>Edad</th>\n",
       "      <th>videojuego</th>\n",
       "      <th>Plataforma</th>\n",
       "      <th>Sexo</th>\n",
       "      <th>Consumidor_habitual</th>\n",
       "      <th>Prediccion</th>\n",
       "    </tr>\n",
       "  </thead>\n",
       "  <tbody>\n",
       "    <tr>\n",
       "      <th>0</th>\n",
       "      <td>20</td>\n",
       "      <td>'Mass Effect'</td>\n",
       "      <td>'Play Station'</td>\n",
       "      <td>Hombre</td>\n",
       "      <td>True</td>\n",
       "      <td>420.0</td>\n",
       "    </tr>\n",
       "  </tbody>\n",
       "</table>\n",
       "</div>"
      ]
     },
     "execution_count": 30,
     "metadata": {},
     "output_type": "execute_result"
    }
   ],
   "execution_count": 30
  },
  {
   "cell_type": "code",
   "source": [
    "#Predicciones finales\n",
    "data"
   ],
   "metadata": {
    "colab": {
     "base_uri": "https://localhost:8080/",
     "height": 206
    },
    "id": "yvo_lqO2ygC5",
    "outputId": "24735cec-2c82-4eee-a1a4-e5ee0be2f84f",
    "ExecuteTime": {
     "end_time": "2025-09-20T18:40:23.096062Z",
     "start_time": "2025-09-20T18:40:23.092726Z"
    }
   },
   "outputs": [
    {
     "data": {
      "text/plain": [
       "   Edad     videojuego      Plataforma    Sexo Consumidor_habitual  Prediccion\n",
       "0    20  'Mass Effect'  'Play Station'  Hombre                True       420.0"
      ],
      "text/html": [
       "<div>\n",
       "<style scoped>\n",
       "    .dataframe tbody tr th:only-of-type {\n",
       "        vertical-align: middle;\n",
       "    }\n",
       "\n",
       "    .dataframe tbody tr th {\n",
       "        vertical-align: top;\n",
       "    }\n",
       "\n",
       "    .dataframe thead th {\n",
       "        text-align: right;\n",
       "    }\n",
       "</style>\n",
       "<table border=\"1\" class=\"dataframe\">\n",
       "  <thead>\n",
       "    <tr style=\"text-align: right;\">\n",
       "      <th></th>\n",
       "      <th>Edad</th>\n",
       "      <th>videojuego</th>\n",
       "      <th>Plataforma</th>\n",
       "      <th>Sexo</th>\n",
       "      <th>Consumidor_habitual</th>\n",
       "      <th>Prediccion</th>\n",
       "    </tr>\n",
       "  </thead>\n",
       "  <tbody>\n",
       "    <tr>\n",
       "      <th>0</th>\n",
       "      <td>20</td>\n",
       "      <td>'Mass Effect'</td>\n",
       "      <td>'Play Station'</td>\n",
       "      <td>Hombre</td>\n",
       "      <td>True</td>\n",
       "      <td>420.0</td>\n",
       "    </tr>\n",
       "  </tbody>\n",
       "</table>\n",
       "</div>"
      ]
     },
     "execution_count": 31,
     "metadata": {},
     "output_type": "execute_result"
    }
   ],
   "execution_count": 31
  }
 ]
}
